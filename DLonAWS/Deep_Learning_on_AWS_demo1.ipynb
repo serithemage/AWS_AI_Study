{
 "cells": [
  {
   "cell_type": "markdown",
   "metadata": {},
   "source": [
    "# Python 치트 시트 "
   ]
  },
  {
   "cell_type": "markdown",
   "metadata": {},
   "source": [
    "## 목차  \n",
    "1. <a href='#section1'>구문 및 공백</a>\n",
    "2. <a href='#section2'>주석</a>\n",
    "3. <a href='#section3'>숫자 및 연산</a>\n",
    "4. <a href='#section4'>문자열 조작</a>\n",
    "5. <a href='#section5'>리스트, 튜플 및 사전</a>\n",
    "6. <a href='#section6'>JSON</a>\n",
    "7. <a href='#section7'>루프</a>\n",
    "8. <a href='#section8'>파일 처리</a>\n",
    "9. <a href='#section9'>함수</a>\n",
    "10. <a href='#section10'>datetime 작업</a>\n",
    "11. <a href='#section11'>NumPy</a>\n",
    "12. <a href='#section12'>Pandas</a>"
   ]
  },
  {
   "cell_type": "markdown",
   "metadata": {},
   "source": [
    "셀을 실행하려면 **Shift+Enter**를 누르거나 페이지 상단에서 **실행**을 클릭합니다."
   ]
  },
  {
   "cell_type": "markdown",
   "metadata": {},
   "source": [
    "<a id=\"section_1\"></a>\n",
    "\n",
    "## 1. 구문 및 공백\n",
    "Python은 들여쓰기 공백을 사용하여 문의 레벨을 나타냅니다. 다음 셀은 '**if**' 및 '**else**'는 같은 레벨이지만, '**print**'는 공백으로 구분되어 다른 레벨인 것을 보여주는 예제입니다. 같은 레벨의 항목은 공백 간격이 동일해야 합니다."
   ]
  },
  {
   "cell_type": "code",
   "execution_count": null,
   "metadata": {},
   "outputs": [],
   "source": [
    "student_number = input(\"Enter your student number:\")\n",
    "if student_number != 0:\n",
    "    print(\"Welcome student {}\".format(student_number))\n",
    "else:\n",
    "    print(\"Try again!\")"
   ]
  },
  {
   "cell_type": "markdown",
   "metadata": {},
   "source": [
    "<a id='section2'></a>\n",
    "\n",
    "## 2. 주석\n",
    "Python에서 주석은 해시 '#'로 시작하여 줄의 끝까지 이어집니다. '#'는 줄의 시작 부분이나 코드 뒤에 위치할 수 있습니다. "
   ]
  },
  {
   "cell_type": "code",
   "execution_count": null,
   "metadata": {},
   "outputs": [],
   "source": [
    "# hello world를 인쇄하는 코드입니다!\n",
    "\n",
    "print(\"Hello world!\") # hello world에 대한 인쇄 문\n",
    "print(\"# is not a comment in this case\")"
   ]
  },
  {
   "cell_type": "markdown",
   "metadata": {},
   "source": [
    "<a id='section3'></a>\n",
    "\n",
    "## 3. 숫자 및 연산\n",
    "\n",
    "다른 프로그래밍 언어와 마찬가지로 다음과 같은 네 가지 유형의 숫자가 있습니다. \n",
    "- *int*로 표시되는 정수(예: 1, 20, 45, 1000)\n",
    "- *float*로 표시되는 부동 소수점 수(예: 1.25, 20.35, 1000.00)\n",
    "- 긴 정수 \n",
    "- 복소수(예: x가 알려진 경우의 x+2y)"
   ]
  },
  {
   "cell_type": "markdown",
   "metadata": {},
   "source": [
    "연산 | 결과\n",
    "----------------|-------------------------------------               \n",
    "x + y | x와 y의 합계\t\n",
    "x – y | x와 y의 차이\t\n",
    "x * y | x와 y의 곱하기\t\n",
    "x / y | x와 y의 나누기\n",
    "x // y | x와 y의 나누기(소수점 제외)\n",
    "x % y | x/y의 나머지\n",
    "abs(x) | x의 절대값\t\n",
    "int(x) | x를 정수로 변환\n",
    "long(x) | x를 긴 정수로 변환\n",
    "float(x) | x를 부동 소수점으로 변환\t\n",
    "pow(x, y) | x의 y 제곱근\t\n",
    "x ** y | x의 y 제곱근\t"
   ]
  },
  {
   "cell_type": "code",
   "execution_count": null,
   "metadata": {},
   "outputs": [],
   "source": [
    "# 숫자 예제\n",
    "a = 5 + 8\n",
    "print(\"Sum of int numbers: {} and number format is {}\".format(a, type(a)))\n",
    "\n",
    "b = 5 + 2.3\n",
    "print (\"Sum of int and {} and number format is {}\".format(b, type(b)))"
   ]
  },
  {
   "cell_type": "markdown",
   "metadata": {},
   "source": [
    "<a id='section4'></a>\n",
    "\n",
    "## 4. 문자열 조작\n",
    "\n",
    "Python에는 다른 프로그래밍 언어들처럼 문자열 조작을 위한 다양한 기능이 있습니다."
   ]
  },
  {
   "cell_type": "code",
   "execution_count": null,
   "metadata": {},
   "outputs": [],
   "source": [
    "# 변수에 문자열 저장\n",
    "test_word = \"hello world to everyone\"\n",
    "\n",
    "# test_word 값 인쇄\n",
    "print(test_word)\n",
    "\n",
    "# []를 사용하여 문자열의 문자에 액세스합니다. 첫 번째 문자는 '0'으로 표시됩니다.\n",
    "print(test_word[0])\n",
    "\n",
    "# len() 함수를 사용하여 문자열의 길이를 찾습니다.\n",
    "print(len(test_word))\n",
    "\n",
    "# 문자열에서 찾기를 보여주는 몇 가지 예제\n",
    "print(test_word.count('l')) # 문자열에서 I가 반복되는 횟수 계산\n",
    "print(test_word.find(\"o\")) # 문자열에서 글자 'o'를 찾습니다. 첫 번째로 일치한 위치를 반환합니다.\n",
    "print(test_word.count(' ')) # 문자열에서 공백 수를 계산\n",
    "print(test_word.upper()) # 문자열을 대문자로 변경\n",
    "print(test_word.lower()) # 문자열을 소문자로 변경\n",
    "print(test_word.replace(\"everyone\",\"you\")) # \"everyone\"이라는 단어를 \"you\"로 대체\n",
    "print(test_word.title()) # 문자열을 제목 형식으로 변경\n",
    "print(test_word + \"!!!\") # 문자열을 연결\n",
    "print(\":\".join(test_word)) # 각 글자 사이에 \":\" 추가\n",
    "print(\"\".join(reversed(test_word))) # 문자열을 반전시키기 "
   ]
  },
  {
   "cell_type": "markdown",
   "metadata": {},
   "source": [
    "<a id='section5'></a>\n",
    "\n",
    "## 5. 리스트, 튜플 및 사전\n",
    "\n",
    "Python은 리스트, 튜플, 사전 및 배열과 같은 데이터 유형을 지원합니다."
   ]
  },
  {
   "cell_type": "markdown",
   "metadata": {},
   "source": [
    "### 리스트\n",
    "\n",
    "모든 항목(요소)을 대괄호 \\[ ] 안에 쉼표로 구분하여 배치하면 리스트가 생성됩니다. 리스트에는 여러 항목이 포함될 수 있으며, 다양한 유형(정수, 부동 소수점, 문자열 등)이 될 수 있습니다."
   ]
  },
  {
   "cell_type": "code",
   "execution_count": null,
   "metadata": {},
   "outputs": [],
   "source": [
    "# Python 리스트는 배열과 비슷합니다. 빈 리스트도 생성할 수 있습니다.\n",
    "\n",
    "my_list = []\n",
    "\n",
    "first_list = [3, 5, 7, 10]\n",
    "second_list = [1, 'python', 3]"
   ]
  },
  {
   "cell_type": "code",
   "execution_count": null,
   "metadata": {},
   "outputs": [],
   "source": [
    "# 여러 리스트 중첩\n",
    "nested_list = [first_list, second_list]\n",
    "nested_list"
   ]
  },
  {
   "cell_type": "code",
   "execution_count": null,
   "metadata": {},
   "outputs": [],
   "source": [
    "# 여러 리스트 결합\n",
    "combined_list = first_list + second_list\n",
    "combined_list"
   ]
  },
  {
   "cell_type": "code",
   "execution_count": null,
   "metadata": {},
   "outputs": [],
   "source": [
    "# 문자열과 마찬가지로 리스트도 분할 가능\n",
    "combined_list[0:3]"
   ]
  },
  {
   "cell_type": "code",
   "execution_count": null,
   "metadata": {},
   "outputs": [],
   "source": [
    "# 리스트에 새 항목 추가\n",
    "combined_list.append(600)\n",
    "combined_list"
   ]
  },
  {
   "cell_type": "code",
   "execution_count": null,
   "metadata": {},
   "outputs": [],
   "source": [
    "# 리스트에서 마지막 항목 제거\n",
    "combined_list.pop()"
   ]
  },
  {
   "cell_type": "code",
   "execution_count": null,
   "metadata": {},
   "outputs": [],
   "source": [
    "# 리스트 반복\n",
    "for item in combined_list:\n",
    "    print(item)    "
   ]
  },
  {
   "cell_type": "markdown",
   "metadata": {},
   "source": [
    "### 튜플\n",
    "\n",
    "튜플은 리스트와 유사하지만 대괄호 대신 괄호()와 함께 사용합니다. 가장 큰 차이점은 튜플은 변경 불가능하지만 리스트는 변경 가능하다는 것입니다."
   ]
  },
  {
   "cell_type": "code",
   "execution_count": null,
   "metadata": {},
   "outputs": [],
   "source": [
    "my_tuple = (1, 2, 3, 4, 5)\n",
    "my_tuple[1:4]"
   ]
  },
  {
   "cell_type": "markdown",
   "metadata": {},
   "source": [
    "### 딕셔너리\n",
    "\n",
    "딕셔너리는 연관 배열이라고도 합니다. 딕셔너리는 키–값 페어 모음으로 구성됩니다. 각 키–값 페어는 키를 연결된 값에 매핑합니다."
   ]
  },
  {
   "cell_type": "code",
   "execution_count": null,
   "metadata": {},
   "outputs": [],
   "source": [
    "desk_location = {'jack': 123, 'joe': 234, 'hary': 543}\n",
    "desk_location['jack']"
   ]
  },
  {
   "cell_type": "markdown",
   "metadata": {},
   "source": [
    "<a id='section6'></a>\n",
    "\n",
    "## 6. JSON \n",
    "\n",
    "JSON은 JavaScript Object Notation으로 작성된 텍스트입니다. Python에는 JSON 데이터 작업에 사용할 수 있는 `json`이라는 기본 제공 패키지가 있습니다."
   ]
  },
  {
   "cell_type": "code",
   "execution_count": null,
   "metadata": {},
   "outputs": [],
   "source": [
    "import json\n",
    "\n",
    "# JSON 데이터 샘플\n",
    "x = '{\"first_name\":\"Jane\", \"last_name\":\"Doe\", \"age\":25, \"city\":\"Chicago\"}'\n",
    "\n",
    "# JSON 데이터 읽기\n",
    "y = json.loads(x)\n",
    "\n",
    "# 사전과 유사한 출력 인쇄\n",
    "print(\"Employee name is \"+ y[\"first_name\"] + \" \" + y[\"last_name\"])"
   ]
  },
  {
   "cell_type": "markdown",
   "metadata": {},
   "source": [
    "<a id='section7'></a>\n",
    "\n",
    "## 7. 루프\n",
    "**If, Else, ElIf 루프**: Python은 다른 프로그래밍 언어와 마찬가지로 조건문을 지원합니다. Python은 들여쓰기(줄 시작 부분의 공백)를 사용하여 코드의 범위를 정의합니다. "
   ]
  },
  {
   "cell_type": "code",
   "execution_count": null,
   "metadata": {},
   "outputs": [],
   "source": [
    "a = 22\n",
    "b = 33\n",
    "c = 100\n",
    "\n",
    "# if ... else example\n",
    "if a > b:\n",
    "    print(\"a is greater than b\")\n",
    "else:\n",
    "    print(\"b is greater than a\")\n",
    "    \n",
    "    \n",
    "# if .. else .. elif example\n",
    "\n",
    "if a > b:\n",
    "    print(\"a is greater than b\")\n",
    "elif b > c:\n",
    "    print(\"b is greater than c\")\n",
    "else:\n",
    "    print(\"b is greater than a and c is greater than b\")"
   ]
  },
  {
   "cell_type": "markdown",
   "metadata": {},
   "source": [
    "**While 루프:** 조건이 true인 경우 일련의 문을 실행합니다."
   ]
  },
  {
   "cell_type": "code",
   "execution_count": null,
   "metadata": {},
   "outputs": [],
   "source": [
    "# while 예제 샘플\n",
    "i = 1\n",
    "while i < 10:\n",
    "    print(\"count is \" + str(i))\n",
    "    i += 1\n",
    "\n",
    "print(\"=\"*10)\n",
    "\n",
    "# x가 2인 경우 다음 반복으로 계속 진행합니다. 마지막으로 조건이 false이면 메시지를 인쇄합니다.\n",
    "\n",
    "x = 0\n",
    "while x < 5:\n",
    "    x += 1\n",
    "    if x == 2:\n",
    "        continue\n",
    "    print(x)\n",
    "else:\n",
    "    print(\"x is no longer less than 5\")"
   ]
  },
  {
   "cell_type": "markdown",
   "metadata": {},
   "source": [
    "**For 루프:** '`For` 루프는 Python의 반복기와 비슷합니다. `For` 루프는 시퀀스(리스트, 튜플, 사전, 세트, 문자열 또는 범위)를 반복하는 데 사용됩니다."
   ]
  },
  {
   "cell_type": "code",
   "execution_count": null,
   "metadata": {},
   "outputs": [],
   "source": [
    "# 루프 예제 샘플\n",
    "fruits = [\"orange\", \"banana\", \"apple\", \"grape\", \"cherry\"]\n",
    "for fruit in fruits:\n",
    "    print(fruit)\n",
    "\n",
    "print(\"\\n\")\n",
    "print(\"=\"*10)\n",
    "print(\"\\n\")\n",
    "\n",
    "# 범위 반복\n",
    "for x in range(1, 10, 2):\n",
    "    print(x)\n",
    "else:\n",
    "    print(\"task complete\")\n",
    "\n",
    "print(\"\\n\")\n",
    "print(\"=\"*10)\n",
    "print(\"\\n\")\n",
    "\n",
    "# 여러 리스트 반복\n",
    "traffic_lights = [\"red\", \"yellow\", \"green\"]\n",
    "action = [\"stop\", \"slow down\", \"go\"]\n",
    "\n",
    "for light in traffic_lights:\n",
    "    for task in action:\n",
    "        print(light, task)"
   ]
  },
  {
   "cell_type": "markdown",
   "metadata": {},
   "source": [
    "<a id='section8'></a>\n",
    "\n",
    "## 8. 파일 처리\n",
    "Python에서 파일 작업을 위한 핵심 함수는 `open()` 함수입니다. `open()` 함수는 파일 이름과 모드라는 두 가지 파라미터를 사용합니다.\n",
    "\n",
    "파일을 여는 메서드(모드)는 다음과 같이 네 가지가 있습니다.\n",
    "\n",
    "- \"r\" – 읽기\n",
    "- \"a\" – 추가\n",
    "- \"w\" – 쓰기\n",
    "- \"x\" – 생성\n",
    "\n",
    "또한 파일을 이진 또는 텍스트 모드로 처리할지 여부를 지정할 수 있습니다.\n",
    "\n",
    "- \"t\" – 텍스트\n",
    "- \"b\" – 이진"
   ]
  },
  {
   "cell_type": "code",
   "execution_count": null,
   "metadata": {},
   "outputs": [],
   "source": [
    "# 검정 텍스트 파일을 생성하겠습니다.\n",
    "!echo \"This is a test file with text in it. This is the first line.\" > test.txt\n",
    "!echo \"This is the second line.\" >> test.txt\n",
    "!echo \"This is the third line.\" >> test.txt"
   ]
  },
  {
   "cell_type": "code",
   "execution_count": null,
   "metadata": {},
   "outputs": [],
   "source": [
    "# 파일 읽기\n",
    "file = open('test.txt', 'r')\n",
    "print(file.read())\n",
    "file.close()\n",
    "\n",
    "print(\"\\n\")\n",
    "print(\"=\"*10)\n",
    "print(\"\\n\")\n",
    "\n",
    "# 파일의 처음 10자 읽기\n",
    "file = open('test.txt', 'r')\n",
    "print(file.read(10))\n",
    "file.close()\n",
    "\n",
    "print(\"\\n\")\n",
    "print(\"=\"*10)\n",
    "print(\"\\n\")\n",
    "\n",
    "# 파일에서 줄 읽기\n",
    "\n",
    "file = open('test.txt', 'r')\n",
    "print(file.readline())\n",
    "file.close()"
   ]
  },
  {
   "cell_type": "code",
   "execution_count": null,
   "metadata": {},
   "outputs": [],
   "source": [
    "# 새로운 파일 생성\n",
    "\n",
    "file = open('test2.txt', 'w')\n",
    "file.write(\"This is content in the new test2 file.\")\n",
    "file.close()\n",
    "\n",
    "# 새로운 파일의 콘텐츠 읽기\n",
    "file = open('test2.txt', 'r')\n",
    "print(file.read())\n",
    "file.close()"
   ]
  },
  {
   "cell_type": "code",
   "execution_count": null,
   "metadata": {},
   "outputs": [],
   "source": [
    "# 파일 업데이트\n",
    "file = open('test2.txt', 'a')\n",
    "file.write(\"\\nThis is additional content in the new file.\")\n",
    "file.close()\n",
    "\n",
    "# 새로운 파일의 콘텐츠 읽기\n",
    "file = open('test2.txt', 'r')\n",
    "print(file.read())\n",
    "file.close()"
   ]
  },
  {
   "cell_type": "code",
   "execution_count": null,
   "metadata": {},
   "outputs": [],
   "source": [
    "# 파일 삭제\n",
    "import os\n",
    "file_names = [\"test.txt\", \"test2.txt\"]\n",
    "for item in file_names:\n",
    "    if os.path.exists(item):\n",
    "        os.remove(item)\n",
    "        print(f\"File {item} removed successfully!\")\n",
    "    else:\n",
    "        print(f\"{item} file does not exist.\")"
   ]
  },
  {
   "cell_type": "markdown",
   "metadata": {},
   "source": [
    "<a id='section9'></a>\n",
    "\n",
    "## 9. 함수\n",
    "\n",
    "함수는 호출될 때 실행되는 코드 블록입니다. 데이터 또는 *파라미터*를 함수에 전달할 수 있습니다. Python에서 함수는 `def`로 정의됩니다."
   ]
  },
  {
   "cell_type": "code",
   "execution_count": null,
   "metadata": {},
   "outputs": [],
   "source": [
    "# 함수 정의\n",
    "def new_funct():\n",
    "    print(\"A simple function\")\n",
    "\n",
    "# 함수 호출\n",
    "new_funct()"
   ]
  },
  {
   "cell_type": "code",
   "execution_count": null,
   "metadata": {},
   "outputs": [],
   "source": [
    "# 파라미터를 사용한 함수 샘플\n",
    "\n",
    "def param_funct(first_name):\n",
    "    print(f\"Employee name is {first_name}.\")\n",
    "\n",
    "param_funct(\"Harry\")\n",
    "param_funct(\"Larry\")\n",
    "param_funct(\"Shally\")"
   ]
  },
  {
   "cell_type": "markdown",
   "metadata": {},
   "source": [
    "**익명 함수(lambda):** Lambda는 작은 익명 함수입니다. Lambda 함수는 여러 개의 인수를 사용할 수 있지만 식은 하나만 사용할 수 있습니다."
   ]
  },
  {
   "cell_type": "code",
   "execution_count": null,
   "metadata": {},
   "outputs": [],
   "source": [
    "# Lambda 예제 샘플\n",
    "x = lambda y: y + 100\n",
    "print(x(15))\n",
    "\n",
    "print(\"\\n\")\n",
    "print(\"=\"*10)\n",
    "print(\"\\n\")\n",
    "\n",
    "x = lambda a, b: a*b/100\n",
    "print(x(2,4))"
   ]
  },
  {
   "cell_type": "markdown",
   "metadata": {},
   "source": [
    "<a id='section10'></a>\n",
    "\n",
    "## 10. datetime 작업 \n",
    "\n",
    "Python의 `datetime` 모듈은 날짜 객체 작업에 사용할 수 있습니다."
   ]
  },
  {
   "cell_type": "code",
   "execution_count": null,
   "metadata": {},
   "outputs": [],
   "source": [
    "import datetime\n",
    "\n",
    "x = datetime.datetime.now()\n",
    "\n",
    "print(x)\n",
    "print(x.year)\n",
    "print(x.strftime(\"%A\"))\n",
    "print(x.strftime(\"%B\"))\n",
    "print(x.strftime(\"%d\"))\n",
    "print(x.strftime(\"%H:%M:%S %p\"))"
   ]
  },
  {
   "cell_type": "markdown",
   "metadata": {},
   "source": [
    "<a id='section11'></a>\n",
    "\n",
    "## 11. NumPy\n",
    "\n",
    "NumPy는 Python을 사용한 과학 컴퓨팅의 기본 패키지입니다. 무엇보다 여기에는 다음이 포함됩니다.\n",
    "\n",
    "- 강력한 N차원 배열 객체\n",
    "- 정교한(브로드캐스팅) 함수\n",
    "- C/C++ 및 Fortran 코드를 통합할 수 있는 도구\n",
    "- 유용한 선형 대수, 푸리에 변환 및 난수 기능"
   ]
  },
  {
   "cell_type": "code",
   "execution_count": null,
   "metadata": {},
   "outputs": [],
   "source": [
    "# pip를 사용하여 NumPy 설치\n",
    "!pip install numpy"
   ]
  },
  {
   "cell_type": "code",
   "execution_count": null,
   "metadata": {},
   "outputs": [],
   "source": [
    "# NumPy 모듈 가져오기\n",
    "import numpy as np"
   ]
  },
  {
   "cell_type": "markdown",
   "metadata": {},
   "source": [
    "### 배열 검사"
   ]
  },
  {
   "cell_type": "code",
   "execution_count": null,
   "metadata": {},
   "outputs": [],
   "source": [
    "# 배열 생성\n",
    "a = np.arange(15).reshape(3, 5) # 0~14 범위의 배열을 3x5 차원으로 생성\n",
    "b = np.zeros((3,5)) # 0으로 배열 생성\n",
    "c = np.ones( (2,3,4), dtype=np.int16 ) # 1로 배열 생성 및 데이터 유형 정의\n",
    "d = np.ones((3,5))"
   ]
  },
  {
   "cell_type": "code",
   "execution_count": null,
   "metadata": {},
   "outputs": [],
   "source": [
    "a.shape # 배열 차원"
   ]
  },
  {
   "cell_type": "code",
   "execution_count": null,
   "metadata": {},
   "outputs": [],
   "source": [
    "len(b) # 배열 길이"
   ]
  },
  {
   "cell_type": "code",
   "execution_count": null,
   "metadata": {},
   "outputs": [],
   "source": [
    "c.ndim # 배열 차원 수"
   ]
  },
  {
   "cell_type": "code",
   "execution_count": null,
   "metadata": {},
   "outputs": [],
   "source": [
    "a.size # 배열 요소의 수"
   ]
  },
  {
   "cell_type": "code",
   "execution_count": null,
   "metadata": {},
   "outputs": [],
   "source": [
    "b.dtype # 배열 요소의 데이터 형식"
   ]
  },
  {
   "cell_type": "code",
   "execution_count": null,
   "metadata": {},
   "outputs": [],
   "source": [
    "c.dtype.name # 데이터 유형 이름"
   ]
  },
  {
   "cell_type": "code",
   "execution_count": null,
   "metadata": {},
   "outputs": [],
   "source": [
    "c.astype(float) # 배열 유형을 다른 유형으로 변환"
   ]
  },
  {
   "cell_type": "markdown",
   "metadata": {},
   "source": [
    "### 기본 수학 연산"
   ]
  },
  {
   "cell_type": "code",
   "execution_count": null,
   "metadata": {},
   "outputs": [],
   "source": [
    "# 배열 생성\n",
    "a = np.arange(15).reshape(3, 5) # 0~14 범위의 배열을 3x5 차원으로 생성\n",
    "b = np.zeros((3,5)) # 0으로 배열 생성\n",
    "c = np.ones( (2,3,4), dtype=np.int16 ) # 1로 배열 생성 및 데이터 유형 정의\n",
    "d = np.ones((3,5))"
   ]
  },
  {
   "cell_type": "code",
   "execution_count": null,
   "metadata": {},
   "outputs": [],
   "source": [
    "np.add(a,b) # 더하기"
   ]
  },
  {
   "cell_type": "code",
   "execution_count": null,
   "metadata": {},
   "outputs": [],
   "source": [
    "np.subtract(a,b) # 빼기"
   ]
  },
  {
   "cell_type": "code",
   "execution_count": null,
   "metadata": {},
   "outputs": [],
   "source": [
    "np.divide(a,d) # 나누기"
   ]
  },
  {
   "cell_type": "code",
   "execution_count": null,
   "metadata": {},
   "outputs": [],
   "source": [
    "np.multiply(a,d) # 곱하기"
   ]
  },
  {
   "cell_type": "code",
   "execution_count": null,
   "metadata": {},
   "outputs": [],
   "source": [
    "np.array_equal(a,b) # 비교 - 배열별"
   ]
  },
  {
   "cell_type": "markdown",
   "metadata": {},
   "source": [
    "### 집계 함수"
   ]
  },
  {
   "cell_type": "code",
   "execution_count": null,
   "metadata": {},
   "outputs": [],
   "source": [
    "# 배열 생성\n",
    "a = np.arange(15).reshape(3, 5) # 0~14 범위의 배열을 3x5 차원으로 생성\n",
    "b = np.zeros((3,5)) # zeros로 배열 생성\n",
    "c = np.ones( (2,3,4), dtype=np.int16 ) # ones로 배열 생성 및 데이터 유형 정의\n",
    "d = np.ones((3,5))"
   ]
  },
  {
   "cell_type": "code",
   "execution_count": null,
   "metadata": {},
   "outputs": [],
   "source": [
    "a.sum() # 배열별 합계"
   ]
  },
  {
   "cell_type": "code",
   "execution_count": null,
   "metadata": {},
   "outputs": [],
   "source": [
    "a.min() # 배열별 최소값"
   ]
  },
  {
   "cell_type": "code",
   "execution_count": null,
   "metadata": {},
   "outputs": [],
   "source": [
    "a.mean() # 배열별 평균"
   ]
  },
  {
   "cell_type": "code",
   "execution_count": null,
   "metadata": {},
   "outputs": [],
   "source": [
    "a.max(axis=0) # 배열 행의 최대값"
   ]
  },
  {
   "cell_type": "code",
   "execution_count": null,
   "metadata": {},
   "outputs": [],
   "source": [
    "np.std(a) # 표준 편차"
   ]
  },
  {
   "cell_type": "markdown",
   "metadata": {},
   "source": [
    "### 하위 설정, 조각화 및 인덱싱"
   ]
  },
  {
   "cell_type": "code",
   "execution_count": null,
   "metadata": {},
   "outputs": [],
   "source": [
    "# 배열 생성\n",
    "a = np.arange(15).reshape(3, 5) # 0~14 범위의 배열을 3x5 차원으로 생성\n",
    "b = np.zeros((3,5)) # zeros로 배열 생성\n",
    "c = np.ones( (2,3,4), dtype=np.int16 ) # ones로 배열 생성 및 데이터 유형 정의\n",
    "d = np.ones((3,5))"
   ]
  },
  {
   "cell_type": "code",
   "execution_count": null,
   "metadata": {},
   "outputs": [],
   "source": [
    "a[1,2] # 행 1과 열 2의 요소 선택"
   ]
  },
  {
   "cell_type": "code",
   "execution_count": null,
   "metadata": {},
   "outputs": [],
   "source": [
    "a[0:2] # 인덱스 0과 1에서 항목 선택"
   ]
  },
  {
   "cell_type": "code",
   "execution_count": null,
   "metadata": {},
   "outputs": [],
   "source": [
    "a[:1] # 행 0의 모든 항목 선택"
   ]
  },
  {
   "cell_type": "code",
   "execution_count": null,
   "metadata": {},
   "outputs": [],
   "source": [
    "a[-1:] # 마지막 행에서 모든 항목 선택"
   ]
  },
  {
   "cell_type": "code",
   "execution_count": null,
   "metadata": {},
   "outputs": [],
   "source": [
    "a[a<2] # 'a'에서 2보다 작은 요소 선택"
   ]
  },
  {
   "cell_type": "markdown",
   "metadata": {},
   "source": [
    "### 배열 조작"
   ]
  },
  {
   "cell_type": "code",
   "execution_count": null,
   "metadata": {},
   "outputs": [],
   "source": [
    "# 배열 생성\n",
    "a = np.arange(15).reshape(3, 5) # 0~14 범위의 배열을 3x5 차원으로 생성\n",
    "b = np.zeros((3,5)) # zeros로 배열 생성\n",
    "c = np.ones( (2,3,4), dtype=np.int16 ) # ones로 배열 생성 및 데이터 유형 정의\n",
    "d = np.ones((3,5))"
   ]
  },
  {
   "cell_type": "code",
   "execution_count": null,
   "metadata": {},
   "outputs": [],
   "source": [
    "np.transpose(a) # 배열 'a' 바꾸기"
   ]
  },
  {
   "cell_type": "code",
   "execution_count": null,
   "metadata": {},
   "outputs": [],
   "source": [
    "a.ravel() # 배열 평면화"
   ]
  },
  {
   "cell_type": "code",
   "execution_count": null,
   "metadata": {},
   "outputs": [],
   "source": [
    "a.reshape(5,-2) # 형태를 변경하되 데이터는 변경하지 않음"
   ]
  },
  {
   "cell_type": "code",
   "execution_count": null,
   "metadata": {},
   "outputs": [],
   "source": [
    "np.append(a,b) # 항목을 배열에 추가"
   ]
  },
  {
   "cell_type": "code",
   "execution_count": null,
   "metadata": {},
   "outputs": [],
   "source": [
    "np.concatenate((a,d), axis=0) # 배열 연결"
   ]
  },
  {
   "cell_type": "code",
   "execution_count": null,
   "metadata": {},
   "outputs": [],
   "source": [
    "np.vsplit(a,3) # 3번째 인덱스에서 수직으로 배열 분할"
   ]
  },
  {
   "cell_type": "code",
   "execution_count": null,
   "metadata": {},
   "outputs": [],
   "source": [
    "np.hsplit(a,5) # 5번째 인덱스에서 수평으로 배열 분할"
   ]
  },
  {
   "cell_type": "markdown",
   "metadata": {},
   "source": [
    "<a id='section12'></a>\n",
    "\n",
    "## Pandas\n",
    "\n",
    "Pandas는 Python 프로그래밍 언어를 위한 고성능의 사용이 간편한 데이터 구조와 데이터 분석 도구를 제공하는 BSD 라이선스 라이브러리로 오픈 소스입니다.\n",
    "\n",
    "Pandas DataFrames는 Python 내에서 가장 널리 사용되는 복잡한 데이터 모음의 인 메모리 표현입니다."
   ]
  },
  {
   "cell_type": "code",
   "execution_count": null,
   "metadata": {},
   "outputs": [],
   "source": [
    "# pip를 사용하여 pandas, xlrd 및 openpyxl 설치\n",
    "!pip install pandas\n",
    "!pip install xlrd openpyxl"
   ]
  },
  {
   "cell_type": "code",
   "execution_count": null,
   "metadata": {},
   "outputs": [],
   "source": [
    "# NumPy 및 Pandas 모듈 가져오기\n",
    "import numpy as np\n",
    "import pandas as pd"
   ]
  },
  {
   "cell_type": "code",
   "execution_count": null,
   "metadata": {},
   "outputs": [],
   "source": [
    "# dataframe df 샘플\n",
    "df = pd.DataFrame({'num_legs': [2, 4, np.nan, 0],\n",
    "                   'num_wings': [2, 0, 0, 0],\n",
    "                   'num_specimen_seen': [10, np.nan, 1, 8]},\n",
    "                   index=['falcon', 'dog', 'spider', 'fish'])\n",
    "df # dataframe df 표시"
   ]
  },
  {
   "cell_type": "code",
   "execution_count": null,
   "metadata": {},
   "outputs": [],
   "source": [
    "# 또 다른 dataframe df1 샘플 – datetime 인덱스 및 레이블이 지정된 열이 포함된 NumPy 배열 사용\n",
    "df1 = pd.date_range('20130101', periods=6)\n",
    "df1 = pd.DataFrame(np.random.randn(6, 4), index=df1, columns=list('ABCD'))\n",
    "df1 # dataframe df1 표시"
   ]
  },
  {
   "cell_type": "markdown",
   "metadata": {},
   "source": [
    "### 데이터 보기"
   ]
  },
  {
   "cell_type": "code",
   "execution_count": null,
   "metadata": {},
   "outputs": [],
   "source": [
    "df1 = pd.date_range('20130101', periods=6)\n",
    "df1 = pd.DataFrame(np.random.randn(6, 4), index=df1, columns=list('ABCD'))"
   ]
  },
  {
   "cell_type": "code",
   "execution_count": null,
   "metadata": {},
   "outputs": [],
   "source": [
    "df1.head(2) # 상위 데이터 보기"
   ]
  },
  {
   "cell_type": "code",
   "execution_count": null,
   "metadata": {},
   "outputs": [],
   "source": [
    "df1.tail(2) # 하위 데이터 보기"
   ]
  },
  {
   "cell_type": "code",
   "execution_count": null,
   "metadata": {},
   "outputs": [],
   "source": [
    "df1.index # 인덱스 열 표시"
   ]
  },
  {
   "cell_type": "code",
   "execution_count": null,
   "metadata": {},
   "outputs": [],
   "source": [
    "df1.dtypes # 데이터 유형 검사"
   ]
  },
  {
   "cell_type": "code",
   "execution_count": null,
   "metadata": {},
   "outputs": [],
   "source": [
    "df1.describe() # 데이터의 빠른 통계 요약 표시"
   ]
  },
  {
   "cell_type": "markdown",
   "metadata": {},
   "source": [
    "### 하위 설정, 조각화 및 인덱싱"
   ]
  },
  {
   "cell_type": "code",
   "execution_count": null,
   "metadata": {},
   "outputs": [],
   "source": [
    "df1 = pd.date_range('20130101', periods=6)\n",
    "df1 = pd.DataFrame(np.random.randn(6, 4), index=df1, columns=list('ABCD'))"
   ]
  },
  {
   "cell_type": "code",
   "execution_count": null,
   "metadata": {},
   "outputs": [],
   "source": [
    "df1.T # 데이터 바꾸기"
   ]
  },
  {
   "cell_type": "code",
   "execution_count": null,
   "metadata": {},
   "outputs": [],
   "source": [
    "df1.sort_index(axis=1, ascending=False) # 축을 기준으로 정렬"
   ]
  },
  {
   "cell_type": "code",
   "execution_count": null,
   "metadata": {},
   "outputs": [],
   "source": [
    "df1.sort_values(by='B') # 값을 기준으로 정렬"
   ]
  },
  {
   "cell_type": "code",
   "execution_count": null,
   "metadata": {},
   "outputs": [],
   "source": [
    "df1['A'] # 열 A 선택"
   ]
  },
  {
   "cell_type": "code",
   "execution_count": null,
   "metadata": {},
   "outputs": [],
   "source": [
    "df1[0:3] # 인덱스 0~2 선택"
   ]
  },
  {
   "cell_type": "code",
   "execution_count": null,
   "metadata": {},
   "outputs": [],
   "source": [
    "df1['20130102':'20130104'] # 값과 일치하는 인덱스에서 선택"
   ]
  },
  {
   "cell_type": "code",
   "execution_count": null,
   "metadata": {},
   "outputs": [],
   "source": [
    "df1.loc[:, ['A', 'B']] # 레이블로 다중 축 선택"
   ]
  },
  {
   "cell_type": "code",
   "execution_count": null,
   "metadata": {},
   "outputs": [],
   "source": [
    "df1.iloc[3] # 전달된 정수의 위치를 통해 선택"
   ]
  },
  {
   "cell_type": "code",
   "execution_count": null,
   "metadata": {},
   "outputs": [],
   "source": [
    "df1[df1 > 0] # 부울 조건이 충족되는 DataFrame에서 값 선택"
   ]
  },
  {
   "cell_type": "code",
   "execution_count": null,
   "metadata": {},
   "outputs": [],
   "source": [
    "df2 = df1.copy() # df1 데이터 집합을 df2로 복사\n",
    "df2['E'] = ['one', 'one', 'two', 'three', 'four', 'three'] # 값과 함께 열 E 추가\n",
    "df2[df2['E'].isin(['two', 'four'])] # isin 메서드를 사용하여 필터링"
   ]
  },
  {
   "cell_type": "markdown",
   "metadata": {},
   "source": [
    "### 결측 데이터\n",
    "\n",
    "Pandas는 주로 `np.nan` 값을 사용하여 결측 데이터를 나타냅니다. 이는 기본적으로 계산에 포함되지 않습니다."
   ]
  },
  {
   "cell_type": "code",
   "execution_count": null,
   "metadata": {},
   "outputs": [],
   "source": [
    "df = pd.DataFrame({'num_legs': [2, 4, np.nan, 0],\n",
    "                   'num_wings': [2, 0, 0, 0],\n",
    "                   'num_specimen_seen': [10, np.nan, 1, 8]},\n",
    "                   index=['falcon', 'dog', 'spider', 'fish'])"
   ]
  },
  {
   "cell_type": "code",
   "execution_count": null,
   "metadata": {},
   "outputs": [],
   "source": [
    "df.dropna(how='any') # 결측 데이터가 있는 모든 행 삭제"
   ]
  },
  {
   "cell_type": "code",
   "execution_count": null,
   "metadata": {},
   "outputs": [],
   "source": [
    "df.dropna(how='any', axis=1) # 결측 데이터가 있는 모든 열 삭제"
   ]
  },
  {
   "cell_type": "code",
   "execution_count": null,
   "metadata": {},
   "outputs": [],
   "source": [
    "df.fillna(value=5) # 결측 데이터를 값 5로 채우기"
   ]
  },
  {
   "cell_type": "code",
   "execution_count": null,
   "metadata": {},
   "outputs": [],
   "source": [
    "pd.isna(df) # 결측 데이터가 있는 곳에 부울 마스크 가져오기"
   ]
  },
  {
   "cell_type": "markdown",
   "metadata": {},
   "source": [
    "### 파일 처리"
   ]
  },
  {
   "cell_type": "code",
   "execution_count": null,
   "metadata": {},
   "outputs": [],
   "source": [
    "df = pd.DataFrame({'num_legs': [2, 4, np.nan, 0],\n",
    "                   'num_wings': [2, 0, 0, 0],\n",
    "                   'num_specimen_seen': [10, np.nan, 1, 8]},\n",
    "                   index=['falcon', 'dog', 'spider', 'fish'])"
   ]
  },
  {
   "cell_type": "code",
   "execution_count": null,
   "metadata": {},
   "outputs": [],
   "source": [
    "df.to_csv('foo.csv') # CSV 파일에 쓰기"
   ]
  },
  {
   "cell_type": "code",
   "execution_count": null,
   "metadata": {},
   "outputs": [],
   "source": [
    "pd.read_csv('foo.csv') # CSV 파일에서 읽기"
   ]
  },
  {
   "cell_type": "code",
   "execution_count": null,
   "metadata": {},
   "outputs": [],
   "source": [
    "df.to_excel('foo.xlsx', sheet_name='Sheet1') # Microsoft Excel 파일에 쓰기"
   ]
  },
  {
   "cell_type": "code",
   "execution_count": null,
   "metadata": {},
   "outputs": [],
   "source": [
    "pd.read_excel('foo.xlsx', 'Sheet1', index_col=None, na_values=['NA']) # Microsoft Excel 파일에서 읽기"
   ]
  },
  {
   "cell_type": "markdown",
   "metadata": {},
   "source": [
    "### 그리기"
   ]
  },
  {
   "cell_type": "code",
   "execution_count": null,
   "metadata": {},
   "outputs": [],
   "source": [
    "# pip를 사용하여 Matplotlib 설치\n",
    "!pip install matplotlib"
   ]
  },
  {
   "cell_type": "code",
   "execution_count": null,
   "metadata": {},
   "outputs": [],
   "source": [
    "from matplotlib import pyplot as plt # Import Matplotlib module"
   ]
  },
  {
   "cell_type": "code",
   "execution_count": null,
   "metadata": {},
   "outputs": [],
   "source": [
    "# 랜덤 시계열 데이터 생성\n",
    "ts = pd.Series(np.random.randn(1000),index=pd.date_range('1/1/2000', periods=1000)) \n",
    "ts.head()"
   ]
  },
  {
   "cell_type": "code",
   "execution_count": null,
   "metadata": {},
   "outputs": [],
   "source": [
    "ts = ts.cumsum()\n",
    "ts.plot() # 그래프 그리기\n",
    "plt.show()"
   ]
  },
  {
   "cell_type": "code",
   "execution_count": null,
   "metadata": {},
   "outputs": [],
   "source": [
    "# DataFrame에서 plot() 메서드는 모든 열을 레이블과 함께 그리는 데 편리합니다.\n",
    "df4 = pd.DataFrame(np.random.randn(1000, 4), index=ts.index,columns=['A', 'B', 'C', 'D'])\n",
    "df4 = df4.cumsum()\n",
    "df4.head()"
   ]
  },
  {
   "cell_type": "code",
   "execution_count": null,
   "metadata": {},
   "outputs": [],
   "source": [
    "df4.plot()\n",
    "plt.show()"
   ]
  }
 ],
 "metadata": {
  "kernelspec": {
   "display_name": "conda_python3",
   "language": "python",
   "name": "conda_python3"
  },
  "language_info": {
   "codemirror_mode": {
    "name": "ipython",
    "version": 3
   },
   "file_extension": ".py",
   "mimetype": "text/x-python",
   "name": "python",
   "nbconvert_exporter": "python",
   "pygments_lexer": "ipython3",
   "version": "3.6.10"
  }
 },
 "nbformat": 4,
 "nbformat_minor": 2
}
